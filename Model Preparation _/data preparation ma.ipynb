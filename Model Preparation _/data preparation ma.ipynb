{
 "cells": [
  {
   "cell_type": "code",
   "execution_count": 19,
   "metadata": {},
   "outputs": [],
   "source": [
    "# TO-Do\n",
    "# feature selection -------> done\n",
    "# removing outliers -------> done\n",
    "# removing duplicates -----> done\n",
    "# updated dataset"
   ]
  },
  {
   "cell_type": "code",
   "execution_count": 20,
   "metadata": {},
   "outputs": [],
   "source": [
    "import pandas as pd\n",
    "import numpy as np\n",
    "import matplotlib.pyplot as plt\n",
    "import seaborn as sns"
   ]
  },
  {
   "cell_type": "markdown",
   "metadata": {},
   "source": [
    "# Load Data"
   ]
  },
  {
   "cell_type": "code",
   "execution_count": 21,
   "metadata": {},
   "outputs": [],
   "source": [
    "data = pd.read_csv('E:\\\\final year project\\\\Diet Recommendation System\\\\recipes.csv')\n",
    "# original dataset "
   ]
  },
  {
   "cell_type": "code",
   "execution_count": 22,
   "metadata": {},
   "outputs": [
    {
     "data": {
      "text/html": [
       "<div>\n",
       "<style scoped>\n",
       "    .dataframe tbody tr th:only-of-type {\n",
       "        vertical-align: middle;\n",
       "    }\n",
       "\n",
       "    .dataframe tbody tr th {\n",
       "        vertical-align: top;\n",
       "    }\n",
       "\n",
       "    .dataframe thead th {\n",
       "        text-align: right;\n",
       "    }\n",
       "</style>\n",
       "<table border=\"1\" class=\"dataframe\">\n",
       "  <thead>\n",
       "    <tr style=\"text-align: right;\">\n",
       "      <th></th>\n",
       "      <th>RecipeId</th>\n",
       "      <th>Name</th>\n",
       "      <th>AuthorId</th>\n",
       "      <th>AuthorName</th>\n",
       "      <th>CookTime</th>\n",
       "      <th>PrepTime</th>\n",
       "      <th>TotalTime</th>\n",
       "      <th>DatePublished</th>\n",
       "      <th>Description</th>\n",
       "      <th>Images</th>\n",
       "      <th>RecipeCategory</th>\n",
       "      <th>Keywords</th>\n",
       "      <th>RecipeIngredientQuantities</th>\n",
       "      <th>RecipeIngredientParts</th>\n",
       "      <th>AggregatedRating</th>\n",
       "      <th>ReviewCount</th>\n",
       "      <th>Calories</th>\n",
       "      <th>FatContent</th>\n",
       "      <th>SaturatedFatContent</th>\n",
       "      <th>CholesterolContent</th>\n",
       "      <th>SodiumContent</th>\n",
       "      <th>CarbohydrateContent</th>\n",
       "      <th>FiberContent</th>\n",
       "      <th>SugarContent</th>\n",
       "      <th>ProteinContent</th>\n",
       "      <th>RecipeServings</th>\n",
       "      <th>RecipeYield</th>\n",
       "      <th>RecipeInstructions</th>\n",
       "    </tr>\n",
       "  </thead>\n",
       "  <tbody>\n",
       "    <tr>\n",
       "      <th>0</th>\n",
       "      <td>38</td>\n",
       "      <td>Low-Fat Berry Blue Frozen Dessert</td>\n",
       "      <td>1533</td>\n",
       "      <td>Dancer</td>\n",
       "      <td>PT24H</td>\n",
       "      <td>PT45M</td>\n",
       "      <td>PT24H45M</td>\n",
       "      <td>1999-08-09T21:46:00Z</td>\n",
       "      <td>Make and share this Low-Fat Berry Blue Frozen ...</td>\n",
       "      <td>c(\"https://img.sndimg.com/food/image/upload/w_...</td>\n",
       "      <td>Frozen Desserts</td>\n",
       "      <td>c(\"Dessert\", \"Low Protein\", \"Low Cholesterol\",...</td>\n",
       "      <td>c(\"4\", \"1/4\", \"1\", \"1\")</td>\n",
       "      <td>c(\"blueberries\", \"granulated sugar\", \"vanilla ...</td>\n",
       "      <td>4.5</td>\n",
       "      <td>4.0</td>\n",
       "      <td>170.9</td>\n",
       "      <td>2.5</td>\n",
       "      <td>1.3</td>\n",
       "      <td>8.0</td>\n",
       "      <td>29.8</td>\n",
       "      <td>37.1</td>\n",
       "      <td>3.6</td>\n",
       "      <td>30.2</td>\n",
       "      <td>3.2</td>\n",
       "      <td>4.0</td>\n",
       "      <td>NaN</td>\n",
       "      <td>c(\"Toss 2 cups berries with sugar.\", \"Let stan...</td>\n",
       "    </tr>\n",
       "    <tr>\n",
       "      <th>1</th>\n",
       "      <td>39</td>\n",
       "      <td>Biryani</td>\n",
       "      <td>1567</td>\n",
       "      <td>elly9812</td>\n",
       "      <td>PT25M</td>\n",
       "      <td>PT4H</td>\n",
       "      <td>PT4H25M</td>\n",
       "      <td>1999-08-29T13:12:00Z</td>\n",
       "      <td>Make and share this Biryani recipe from Food.com.</td>\n",
       "      <td>c(\"https://img.sndimg.com/food/image/upload/w_...</td>\n",
       "      <td>Chicken Breast</td>\n",
       "      <td>c(\"Chicken Thigh &amp; Leg\", \"Chicken\", \"Poultry\",...</td>\n",
       "      <td>c(\"1\", \"4\", \"2\", \"2\", \"8\", \"1/4\", \"8\", \"1/2\", ...</td>\n",
       "      <td>c(\"saffron\", \"milk\", \"hot green chili peppers\"...</td>\n",
       "      <td>3.0</td>\n",
       "      <td>1.0</td>\n",
       "      <td>1110.7</td>\n",
       "      <td>58.8</td>\n",
       "      <td>16.6</td>\n",
       "      <td>372.8</td>\n",
       "      <td>368.4</td>\n",
       "      <td>84.4</td>\n",
       "      <td>9.0</td>\n",
       "      <td>20.4</td>\n",
       "      <td>63.4</td>\n",
       "      <td>6.0</td>\n",
       "      <td>NaN</td>\n",
       "      <td>c(\"Soak saffron in warm milk for 5 minutes and...</td>\n",
       "    </tr>\n",
       "  </tbody>\n",
       "</table>\n",
       "</div>"
      ],
      "text/plain": [
       "   RecipeId                               Name  AuthorId AuthorName CookTime  \\\n",
       "0        38  Low-Fat Berry Blue Frozen Dessert      1533     Dancer    PT24H   \n",
       "1        39                            Biryani      1567   elly9812    PT25M   \n",
       "\n",
       "  PrepTime TotalTime         DatePublished  \\\n",
       "0    PT45M  PT24H45M  1999-08-09T21:46:00Z   \n",
       "1     PT4H   PT4H25M  1999-08-29T13:12:00Z   \n",
       "\n",
       "                                         Description  \\\n",
       "0  Make and share this Low-Fat Berry Blue Frozen ...   \n",
       "1  Make and share this Biryani recipe from Food.com.   \n",
       "\n",
       "                                              Images   RecipeCategory  \\\n",
       "0  c(\"https://img.sndimg.com/food/image/upload/w_...  Frozen Desserts   \n",
       "1  c(\"https://img.sndimg.com/food/image/upload/w_...   Chicken Breast   \n",
       "\n",
       "                                            Keywords  \\\n",
       "0  c(\"Dessert\", \"Low Protein\", \"Low Cholesterol\",...   \n",
       "1  c(\"Chicken Thigh & Leg\", \"Chicken\", \"Poultry\",...   \n",
       "\n",
       "                          RecipeIngredientQuantities  \\\n",
       "0                            c(\"4\", \"1/4\", \"1\", \"1\")   \n",
       "1  c(\"1\", \"4\", \"2\", \"2\", \"8\", \"1/4\", \"8\", \"1/2\", ...   \n",
       "\n",
       "                               RecipeIngredientParts  AggregatedRating  \\\n",
       "0  c(\"blueberries\", \"granulated sugar\", \"vanilla ...               4.5   \n",
       "1  c(\"saffron\", \"milk\", \"hot green chili peppers\"...               3.0   \n",
       "\n",
       "   ReviewCount  Calories  FatContent  SaturatedFatContent  CholesterolContent  \\\n",
       "0          4.0     170.9         2.5                  1.3                 8.0   \n",
       "1          1.0    1110.7        58.8                 16.6               372.8   \n",
       "\n",
       "   SodiumContent  CarbohydrateContent  FiberContent  SugarContent  \\\n",
       "0           29.8                 37.1           3.6          30.2   \n",
       "1          368.4                 84.4           9.0          20.4   \n",
       "\n",
       "   ProteinContent  RecipeServings RecipeYield  \\\n",
       "0             3.2             4.0         NaN   \n",
       "1            63.4             6.0         NaN   \n",
       "\n",
       "                                  RecipeInstructions  \n",
       "0  c(\"Toss 2 cups berries with sugar.\", \"Let stan...  \n",
       "1  c(\"Soak saffron in warm milk for 5 minutes and...  "
      ]
     },
     "execution_count": 22,
     "metadata": {},
     "output_type": "execute_result"
    }
   ],
   "source": [
    "data.head(2)"
   ]
  },
  {
   "cell_type": "code",
   "execution_count": 23,
   "metadata": {},
   "outputs": [],
   "source": [
    "pd.set_option('display.max_columns', 50)"
   ]
  },
  {
   "cell_type": "code",
   "execution_count": 24,
   "metadata": {},
   "outputs": [
    {
     "data": {
      "text/html": [
       "<div>\n",
       "<style scoped>\n",
       "    .dataframe tbody tr th:only-of-type {\n",
       "        vertical-align: middle;\n",
       "    }\n",
       "\n",
       "    .dataframe tbody tr th {\n",
       "        vertical-align: top;\n",
       "    }\n",
       "\n",
       "    .dataframe thead th {\n",
       "        text-align: right;\n",
       "    }\n",
       "</style>\n",
       "<table border=\"1\" class=\"dataframe\">\n",
       "  <thead>\n",
       "    <tr style=\"text-align: right;\">\n",
       "      <th></th>\n",
       "      <th>RecipeId</th>\n",
       "      <th>Name</th>\n",
       "      <th>AuthorId</th>\n",
       "      <th>AuthorName</th>\n",
       "      <th>CookTime</th>\n",
       "      <th>PrepTime</th>\n",
       "      <th>TotalTime</th>\n",
       "      <th>DatePublished</th>\n",
       "      <th>Description</th>\n",
       "      <th>Images</th>\n",
       "      <th>RecipeCategory</th>\n",
       "      <th>Keywords</th>\n",
       "      <th>RecipeIngredientQuantities</th>\n",
       "      <th>RecipeIngredientParts</th>\n",
       "      <th>AggregatedRating</th>\n",
       "      <th>ReviewCount</th>\n",
       "      <th>Calories</th>\n",
       "      <th>FatContent</th>\n",
       "      <th>SaturatedFatContent</th>\n",
       "      <th>CholesterolContent</th>\n",
       "      <th>SodiumContent</th>\n",
       "      <th>CarbohydrateContent</th>\n",
       "      <th>FiberContent</th>\n",
       "      <th>SugarContent</th>\n",
       "      <th>ProteinContent</th>\n",
       "      <th>RecipeServings</th>\n",
       "      <th>RecipeYield</th>\n",
       "      <th>RecipeInstructions</th>\n",
       "    </tr>\n",
       "  </thead>\n",
       "  <tbody>\n",
       "    <tr>\n",
       "      <th>0</th>\n",
       "      <td>38</td>\n",
       "      <td>Low-Fat Berry Blue Frozen Dessert</td>\n",
       "      <td>1533</td>\n",
       "      <td>Dancer</td>\n",
       "      <td>PT24H</td>\n",
       "      <td>PT45M</td>\n",
       "      <td>PT24H45M</td>\n",
       "      <td>1999-08-09T21:46:00Z</td>\n",
       "      <td>Make and share this Low-Fat Berry Blue Frozen ...</td>\n",
       "      <td>c(\"https://img.sndimg.com/food/image/upload/w_...</td>\n",
       "      <td>Frozen Desserts</td>\n",
       "      <td>c(\"Dessert\", \"Low Protein\", \"Low Cholesterol\",...</td>\n",
       "      <td>c(\"4\", \"1/4\", \"1\", \"1\")</td>\n",
       "      <td>c(\"blueberries\", \"granulated sugar\", \"vanilla ...</td>\n",
       "      <td>4.5</td>\n",
       "      <td>4.0</td>\n",
       "      <td>170.9</td>\n",
       "      <td>2.5</td>\n",
       "      <td>1.3</td>\n",
       "      <td>8.0</td>\n",
       "      <td>29.8</td>\n",
       "      <td>37.1</td>\n",
       "      <td>3.6</td>\n",
       "      <td>30.2</td>\n",
       "      <td>3.2</td>\n",
       "      <td>4.0</td>\n",
       "      <td>NaN</td>\n",
       "      <td>c(\"Toss 2 cups berries with sugar.\", \"Let stan...</td>\n",
       "    </tr>\n",
       "    <tr>\n",
       "      <th>1</th>\n",
       "      <td>39</td>\n",
       "      <td>Biryani</td>\n",
       "      <td>1567</td>\n",
       "      <td>elly9812</td>\n",
       "      <td>PT25M</td>\n",
       "      <td>PT4H</td>\n",
       "      <td>PT4H25M</td>\n",
       "      <td>1999-08-29T13:12:00Z</td>\n",
       "      <td>Make and share this Biryani recipe from Food.com.</td>\n",
       "      <td>c(\"https://img.sndimg.com/food/image/upload/w_...</td>\n",
       "      <td>Chicken Breast</td>\n",
       "      <td>c(\"Chicken Thigh &amp; Leg\", \"Chicken\", \"Poultry\",...</td>\n",
       "      <td>c(\"1\", \"4\", \"2\", \"2\", \"8\", \"1/4\", \"8\", \"1/2\", ...</td>\n",
       "      <td>c(\"saffron\", \"milk\", \"hot green chili peppers\"...</td>\n",
       "      <td>3.0</td>\n",
       "      <td>1.0</td>\n",
       "      <td>1110.7</td>\n",
       "      <td>58.8</td>\n",
       "      <td>16.6</td>\n",
       "      <td>372.8</td>\n",
       "      <td>368.4</td>\n",
       "      <td>84.4</td>\n",
       "      <td>9.0</td>\n",
       "      <td>20.4</td>\n",
       "      <td>63.4</td>\n",
       "      <td>6.0</td>\n",
       "      <td>NaN</td>\n",
       "      <td>c(\"Soak saffron in warm milk for 5 minutes and...</td>\n",
       "    </tr>\n",
       "    <tr>\n",
       "      <th>2</th>\n",
       "      <td>40</td>\n",
       "      <td>Best Lemonade</td>\n",
       "      <td>1566</td>\n",
       "      <td>Stephen Little</td>\n",
       "      <td>PT5M</td>\n",
       "      <td>PT30M</td>\n",
       "      <td>PT35M</td>\n",
       "      <td>1999-09-05T19:52:00Z</td>\n",
       "      <td>This is from one of my  first Good House Keepi...</td>\n",
       "      <td>c(\"https://img.sndimg.com/food/image/upload/w_...</td>\n",
       "      <td>Beverages</td>\n",
       "      <td>c(\"Low Protein\", \"Low Cholesterol\", \"Healthy\",...</td>\n",
       "      <td>c(\"1 1/2\", \"1\", NA, \"1 1/2\", NA, \"3/4\")</td>\n",
       "      <td>c(\"sugar\", \"lemons, rind of\", \"lemon, zest of\"...</td>\n",
       "      <td>4.5</td>\n",
       "      <td>10.0</td>\n",
       "      <td>311.1</td>\n",
       "      <td>0.2</td>\n",
       "      <td>0.0</td>\n",
       "      <td>0.0</td>\n",
       "      <td>1.8</td>\n",
       "      <td>81.5</td>\n",
       "      <td>0.4</td>\n",
       "      <td>77.2</td>\n",
       "      <td>0.3</td>\n",
       "      <td>4.0</td>\n",
       "      <td>NaN</td>\n",
       "      <td>c(\"Into a 1 quart Jar with tight fitting lid, ...</td>\n",
       "    </tr>\n",
       "    <tr>\n",
       "      <th>3</th>\n",
       "      <td>41</td>\n",
       "      <td>Carina's Tofu-Vegetable Kebabs</td>\n",
       "      <td>1586</td>\n",
       "      <td>Cyclopz</td>\n",
       "      <td>PT20M</td>\n",
       "      <td>PT24H</td>\n",
       "      <td>PT24H20M</td>\n",
       "      <td>1999-09-03T14:54:00Z</td>\n",
       "      <td>This dish is best prepared a day in advance to...</td>\n",
       "      <td>c(\"https://img.sndimg.com/food/image/upload/w_...</td>\n",
       "      <td>Soy/Tofu</td>\n",
       "      <td>c(\"Beans\", \"Vegetable\", \"Low Cholesterol\", \"We...</td>\n",
       "      <td>c(\"12\", \"1\", \"2\", \"1\", \"10\", \"1\", \"3\", \"2\", \"2...</td>\n",
       "      <td>c(\"extra firm tofu\", \"eggplant\", \"zucchini\", \"...</td>\n",
       "      <td>4.5</td>\n",
       "      <td>2.0</td>\n",
       "      <td>536.1</td>\n",
       "      <td>24.0</td>\n",
       "      <td>3.8</td>\n",
       "      <td>0.0</td>\n",
       "      <td>1558.6</td>\n",
       "      <td>64.2</td>\n",
       "      <td>17.3</td>\n",
       "      <td>32.1</td>\n",
       "      <td>29.3</td>\n",
       "      <td>2.0</td>\n",
       "      <td>4 kebabs</td>\n",
       "      <td>c(\"Drain the tofu, carefully squeezing out exc...</td>\n",
       "    </tr>\n",
       "    <tr>\n",
       "      <th>4</th>\n",
       "      <td>42</td>\n",
       "      <td>Cabbage Soup</td>\n",
       "      <td>1538</td>\n",
       "      <td>Duckie067</td>\n",
       "      <td>PT30M</td>\n",
       "      <td>PT20M</td>\n",
       "      <td>PT50M</td>\n",
       "      <td>1999-09-19T06:19:00Z</td>\n",
       "      <td>Make and share this Cabbage Soup recipe from F...</td>\n",
       "      <td>\"https://img.sndimg.com/food/image/upload/w_55...</td>\n",
       "      <td>Vegetable</td>\n",
       "      <td>c(\"Low Protein\", \"Vegan\", \"Low Cholesterol\", \"...</td>\n",
       "      <td>c(\"46\", \"4\", \"1\", \"2\", \"1\")</td>\n",
       "      <td>c(\"plain tomato juice\", \"cabbage\", \"onion\", \"c...</td>\n",
       "      <td>4.5</td>\n",
       "      <td>11.0</td>\n",
       "      <td>103.6</td>\n",
       "      <td>0.4</td>\n",
       "      <td>0.1</td>\n",
       "      <td>0.0</td>\n",
       "      <td>959.3</td>\n",
       "      <td>25.1</td>\n",
       "      <td>4.8</td>\n",
       "      <td>17.7</td>\n",
       "      <td>4.3</td>\n",
       "      <td>4.0</td>\n",
       "      <td>NaN</td>\n",
       "      <td>c(\"Mix everything together and bring to a boil...</td>\n",
       "    </tr>\n",
       "  </tbody>\n",
       "</table>\n",
       "</div>"
      ],
      "text/plain": [
       "   RecipeId                               Name  AuthorId      AuthorName  \\\n",
       "0        38  Low-Fat Berry Blue Frozen Dessert      1533          Dancer   \n",
       "1        39                            Biryani      1567        elly9812   \n",
       "2        40                      Best Lemonade      1566  Stephen Little   \n",
       "3        41     Carina's Tofu-Vegetable Kebabs      1586         Cyclopz   \n",
       "4        42                       Cabbage Soup      1538       Duckie067   \n",
       "\n",
       "  CookTime PrepTime TotalTime         DatePublished  \\\n",
       "0    PT24H    PT45M  PT24H45M  1999-08-09T21:46:00Z   \n",
       "1    PT25M     PT4H   PT4H25M  1999-08-29T13:12:00Z   \n",
       "2     PT5M    PT30M     PT35M  1999-09-05T19:52:00Z   \n",
       "3    PT20M    PT24H  PT24H20M  1999-09-03T14:54:00Z   \n",
       "4    PT30M    PT20M     PT50M  1999-09-19T06:19:00Z   \n",
       "\n",
       "                                         Description  \\\n",
       "0  Make and share this Low-Fat Berry Blue Frozen ...   \n",
       "1  Make and share this Biryani recipe from Food.com.   \n",
       "2  This is from one of my  first Good House Keepi...   \n",
       "3  This dish is best prepared a day in advance to...   \n",
       "4  Make and share this Cabbage Soup recipe from F...   \n",
       "\n",
       "                                              Images   RecipeCategory  \\\n",
       "0  c(\"https://img.sndimg.com/food/image/upload/w_...  Frozen Desserts   \n",
       "1  c(\"https://img.sndimg.com/food/image/upload/w_...   Chicken Breast   \n",
       "2  c(\"https://img.sndimg.com/food/image/upload/w_...        Beverages   \n",
       "3  c(\"https://img.sndimg.com/food/image/upload/w_...         Soy/Tofu   \n",
       "4  \"https://img.sndimg.com/food/image/upload/w_55...        Vegetable   \n",
       "\n",
       "                                            Keywords  \\\n",
       "0  c(\"Dessert\", \"Low Protein\", \"Low Cholesterol\",...   \n",
       "1  c(\"Chicken Thigh & Leg\", \"Chicken\", \"Poultry\",...   \n",
       "2  c(\"Low Protein\", \"Low Cholesterol\", \"Healthy\",...   \n",
       "3  c(\"Beans\", \"Vegetable\", \"Low Cholesterol\", \"We...   \n",
       "4  c(\"Low Protein\", \"Vegan\", \"Low Cholesterol\", \"...   \n",
       "\n",
       "                          RecipeIngredientQuantities  \\\n",
       "0                            c(\"4\", \"1/4\", \"1\", \"1\")   \n",
       "1  c(\"1\", \"4\", \"2\", \"2\", \"8\", \"1/4\", \"8\", \"1/2\", ...   \n",
       "2            c(\"1 1/2\", \"1\", NA, \"1 1/2\", NA, \"3/4\")   \n",
       "3  c(\"12\", \"1\", \"2\", \"1\", \"10\", \"1\", \"3\", \"2\", \"2...   \n",
       "4                        c(\"46\", \"4\", \"1\", \"2\", \"1\")   \n",
       "\n",
       "                               RecipeIngredientParts  AggregatedRating  \\\n",
       "0  c(\"blueberries\", \"granulated sugar\", \"vanilla ...               4.5   \n",
       "1  c(\"saffron\", \"milk\", \"hot green chili peppers\"...               3.0   \n",
       "2  c(\"sugar\", \"lemons, rind of\", \"lemon, zest of\"...               4.5   \n",
       "3  c(\"extra firm tofu\", \"eggplant\", \"zucchini\", \"...               4.5   \n",
       "4  c(\"plain tomato juice\", \"cabbage\", \"onion\", \"c...               4.5   \n",
       "\n",
       "   ReviewCount  Calories  FatContent  SaturatedFatContent  CholesterolContent  \\\n",
       "0          4.0     170.9         2.5                  1.3                 8.0   \n",
       "1          1.0    1110.7        58.8                 16.6               372.8   \n",
       "2         10.0     311.1         0.2                  0.0                 0.0   \n",
       "3          2.0     536.1        24.0                  3.8                 0.0   \n",
       "4         11.0     103.6         0.4                  0.1                 0.0   \n",
       "\n",
       "   SodiumContent  CarbohydrateContent  FiberContent  SugarContent  \\\n",
       "0           29.8                 37.1           3.6          30.2   \n",
       "1          368.4                 84.4           9.0          20.4   \n",
       "2            1.8                 81.5           0.4          77.2   \n",
       "3         1558.6                 64.2          17.3          32.1   \n",
       "4          959.3                 25.1           4.8          17.7   \n",
       "\n",
       "   ProteinContent  RecipeServings RecipeYield  \\\n",
       "0             3.2             4.0         NaN   \n",
       "1            63.4             6.0         NaN   \n",
       "2             0.3             4.0         NaN   \n",
       "3            29.3             2.0    4 kebabs   \n",
       "4             4.3             4.0         NaN   \n",
       "\n",
       "                                  RecipeInstructions  \n",
       "0  c(\"Toss 2 cups berries with sugar.\", \"Let stan...  \n",
       "1  c(\"Soak saffron in warm milk for 5 minutes and...  \n",
       "2  c(\"Into a 1 quart Jar with tight fitting lid, ...  \n",
       "3  c(\"Drain the tofu, carefully squeezing out exc...  \n",
       "4  c(\"Mix everything together and bring to a boil...  "
      ]
     },
     "execution_count": 24,
     "metadata": {},
     "output_type": "execute_result"
    }
   ],
   "source": [
    "data.loc[:4, :]"
   ]
  },
  {
   "cell_type": "code",
   "execution_count": 25,
   "metadata": {},
   "outputs": [],
   "source": [
    "columns_for_data = ['RecipeId','Name','CookTime','PrepTime','TotalTime','RecipeIngredientParts','Calories','FatContent','SaturatedFatContent','CholesterolContent','SodiumContent','CarbohydrateContent','FiberContent','SugarContent','ProteinContent','RecipeInstructions']"
   ]
  },
  {
   "cell_type": "code",
   "execution_count": 26,
   "metadata": {},
   "outputs": [
    {
     "data": {
      "text/html": [
       "<div>\n",
       "<style scoped>\n",
       "    .dataframe tbody tr th:only-of-type {\n",
       "        vertical-align: middle;\n",
       "    }\n",
       "\n",
       "    .dataframe tbody tr th {\n",
       "        vertical-align: top;\n",
       "    }\n",
       "\n",
       "    .dataframe thead th {\n",
       "        text-align: right;\n",
       "    }\n",
       "</style>\n",
       "<table border=\"1\" class=\"dataframe\">\n",
       "  <thead>\n",
       "    <tr style=\"text-align: right;\">\n",
       "      <th></th>\n",
       "      <th>RecipeId</th>\n",
       "      <th>Name</th>\n",
       "      <th>CookTime</th>\n",
       "      <th>PrepTime</th>\n",
       "      <th>TotalTime</th>\n",
       "      <th>RecipeIngredientParts</th>\n",
       "      <th>Calories</th>\n",
       "      <th>FatContent</th>\n",
       "      <th>SaturatedFatContent</th>\n",
       "      <th>CholesterolContent</th>\n",
       "      <th>SodiumContent</th>\n",
       "      <th>CarbohydrateContent</th>\n",
       "      <th>FiberContent</th>\n",
       "      <th>SugarContent</th>\n",
       "      <th>ProteinContent</th>\n",
       "      <th>RecipeInstructions</th>\n",
       "    </tr>\n",
       "  </thead>\n",
       "  <tbody>\n",
       "    <tr>\n",
       "      <th>0</th>\n",
       "      <td>38</td>\n",
       "      <td>Low-Fat Berry Blue Frozen Dessert</td>\n",
       "      <td>PT24H</td>\n",
       "      <td>PT45M</td>\n",
       "      <td>PT24H45M</td>\n",
       "      <td>c(\"blueberries\", \"granulated sugar\", \"vanilla ...</td>\n",
       "      <td>170.9</td>\n",
       "      <td>2.5</td>\n",
       "      <td>1.3</td>\n",
       "      <td>8.0</td>\n",
       "      <td>29.8</td>\n",
       "      <td>37.1</td>\n",
       "      <td>3.6</td>\n",
       "      <td>30.2</td>\n",
       "      <td>3.2</td>\n",
       "      <td>c(\"Toss 2 cups berries with sugar.\", \"Let stan...</td>\n",
       "    </tr>\n",
       "    <tr>\n",
       "      <th>1</th>\n",
       "      <td>39</td>\n",
       "      <td>Biryani</td>\n",
       "      <td>PT25M</td>\n",
       "      <td>PT4H</td>\n",
       "      <td>PT4H25M</td>\n",
       "      <td>c(\"saffron\", \"milk\", \"hot green chili peppers\"...</td>\n",
       "      <td>1110.7</td>\n",
       "      <td>58.8</td>\n",
       "      <td>16.6</td>\n",
       "      <td>372.8</td>\n",
       "      <td>368.4</td>\n",
       "      <td>84.4</td>\n",
       "      <td>9.0</td>\n",
       "      <td>20.4</td>\n",
       "      <td>63.4</td>\n",
       "      <td>c(\"Soak saffron in warm milk for 5 minutes and...</td>\n",
       "    </tr>\n",
       "    <tr>\n",
       "      <th>2</th>\n",
       "      <td>40</td>\n",
       "      <td>Best Lemonade</td>\n",
       "      <td>PT5M</td>\n",
       "      <td>PT30M</td>\n",
       "      <td>PT35M</td>\n",
       "      <td>c(\"sugar\", \"lemons, rind of\", \"lemon, zest of\"...</td>\n",
       "      <td>311.1</td>\n",
       "      <td>0.2</td>\n",
       "      <td>0.0</td>\n",
       "      <td>0.0</td>\n",
       "      <td>1.8</td>\n",
       "      <td>81.5</td>\n",
       "      <td>0.4</td>\n",
       "      <td>77.2</td>\n",
       "      <td>0.3</td>\n",
       "      <td>c(\"Into a 1 quart Jar with tight fitting lid, ...</td>\n",
       "    </tr>\n",
       "    <tr>\n",
       "      <th>3</th>\n",
       "      <td>41</td>\n",
       "      <td>Carina's Tofu-Vegetable Kebabs</td>\n",
       "      <td>PT20M</td>\n",
       "      <td>PT24H</td>\n",
       "      <td>PT24H20M</td>\n",
       "      <td>c(\"extra firm tofu\", \"eggplant\", \"zucchini\", \"...</td>\n",
       "      <td>536.1</td>\n",
       "      <td>24.0</td>\n",
       "      <td>3.8</td>\n",
       "      <td>0.0</td>\n",
       "      <td>1558.6</td>\n",
       "      <td>64.2</td>\n",
       "      <td>17.3</td>\n",
       "      <td>32.1</td>\n",
       "      <td>29.3</td>\n",
       "      <td>c(\"Drain the tofu, carefully squeezing out exc...</td>\n",
       "    </tr>\n",
       "    <tr>\n",
       "      <th>4</th>\n",
       "      <td>42</td>\n",
       "      <td>Cabbage Soup</td>\n",
       "      <td>PT30M</td>\n",
       "      <td>PT20M</td>\n",
       "      <td>PT50M</td>\n",
       "      <td>c(\"plain tomato juice\", \"cabbage\", \"onion\", \"c...</td>\n",
       "      <td>103.6</td>\n",
       "      <td>0.4</td>\n",
       "      <td>0.1</td>\n",
       "      <td>0.0</td>\n",
       "      <td>959.3</td>\n",
       "      <td>25.1</td>\n",
       "      <td>4.8</td>\n",
       "      <td>17.7</td>\n",
       "      <td>4.3</td>\n",
       "      <td>c(\"Mix everything together and bring to a boil...</td>\n",
       "    </tr>\n",
       "  </tbody>\n",
       "</table>\n",
       "</div>"
      ],
      "text/plain": [
       "   RecipeId                               Name CookTime PrepTime TotalTime  \\\n",
       "0        38  Low-Fat Berry Blue Frozen Dessert    PT24H    PT45M  PT24H45M   \n",
       "1        39                            Biryani    PT25M     PT4H   PT4H25M   \n",
       "2        40                      Best Lemonade     PT5M    PT30M     PT35M   \n",
       "3        41     Carina's Tofu-Vegetable Kebabs    PT20M    PT24H  PT24H20M   \n",
       "4        42                       Cabbage Soup    PT30M    PT20M     PT50M   \n",
       "\n",
       "                               RecipeIngredientParts  Calories  FatContent  \\\n",
       "0  c(\"blueberries\", \"granulated sugar\", \"vanilla ...     170.9         2.5   \n",
       "1  c(\"saffron\", \"milk\", \"hot green chili peppers\"...    1110.7        58.8   \n",
       "2  c(\"sugar\", \"lemons, rind of\", \"lemon, zest of\"...     311.1         0.2   \n",
       "3  c(\"extra firm tofu\", \"eggplant\", \"zucchini\", \"...     536.1        24.0   \n",
       "4  c(\"plain tomato juice\", \"cabbage\", \"onion\", \"c...     103.6         0.4   \n",
       "\n",
       "   SaturatedFatContent  CholesterolContent  SodiumContent  \\\n",
       "0                  1.3                 8.0           29.8   \n",
       "1                 16.6               372.8          368.4   \n",
       "2                  0.0                 0.0            1.8   \n",
       "3                  3.8                 0.0         1558.6   \n",
       "4                  0.1                 0.0          959.3   \n",
       "\n",
       "   CarbohydrateContent  FiberContent  SugarContent  ProteinContent  \\\n",
       "0                 37.1           3.6          30.2             3.2   \n",
       "1                 84.4           9.0          20.4            63.4   \n",
       "2                 81.5           0.4          77.2             0.3   \n",
       "3                 64.2          17.3          32.1            29.3   \n",
       "4                 25.1           4.8          17.7             4.3   \n",
       "\n",
       "                                  RecipeInstructions  \n",
       "0  c(\"Toss 2 cups berries with sugar.\", \"Let stan...  \n",
       "1  c(\"Soak saffron in warm milk for 5 minutes and...  \n",
       "2  c(\"Into a 1 quart Jar with tight fitting lid, ...  \n",
       "3  c(\"Drain the tofu, carefully squeezing out exc...  \n",
       "4  c(\"Mix everything together and bring to a boil...  "
      ]
     },
     "execution_count": 26,
     "metadata": {},
     "output_type": "execute_result"
    }
   ],
   "source": [
    "columns_data = data[columns_for_data]\n",
    "columns_data.head()"
   ]
  },
  {
   "cell_type": "code",
   "execution_count": 27,
   "metadata": {},
   "outputs": [
    {
     "name": "stdout",
     "output_type": "stream",
     "text": [
      "<class 'pandas.core.frame.DataFrame'>\n",
      "RangeIndex: 522517 entries, 0 to 522516\n",
      "Data columns (total 16 columns):\n",
      " #   Column                 Non-Null Count   Dtype  \n",
      "---  ------                 --------------   -----  \n",
      " 0   RecipeId               522517 non-null  int64  \n",
      " 1   Name                   522517 non-null  object \n",
      " 2   CookTime               439972 non-null  object \n",
      " 3   PrepTime               522517 non-null  object \n",
      " 4   TotalTime              522517 non-null  object \n",
      " 5   RecipeIngredientParts  522517 non-null  object \n",
      " 6   Calories               522517 non-null  float64\n",
      " 7   FatContent             522517 non-null  float64\n",
      " 8   SaturatedFatContent    522517 non-null  float64\n",
      " 9   CholesterolContent     522517 non-null  float64\n",
      " 10  SodiumContent          522517 non-null  float64\n",
      " 11  CarbohydrateContent    522517 non-null  float64\n",
      " 12  FiberContent           522517 non-null  float64\n",
      " 13  SugarContent           522517 non-null  float64\n",
      " 14  ProteinContent         522517 non-null  float64\n",
      " 15  RecipeInstructions     522517 non-null  object \n",
      "dtypes: float64(9), int64(1), object(6)\n",
      "memory usage: 63.8+ MB\n"
     ]
    }
   ],
   "source": [
    "columns_data.info()"
   ]
  },
  {
   "cell_type": "code",
   "execution_count": 28,
   "metadata": {},
   "outputs": [
    {
     "data": {
      "image/png": "[encoded data removed]",
      "text/plain": [
       "<Figure size 864x720 with 1 Axes>"
      ]
     },
     "metadata": {
      "needs_background": "light"
     },
     "output_type": "display_data"
    }
   ],
   "source": [
    "plt.figure(figsize=(12, 10))\n",
    "sns.heatmap(columns_data.isnull(), cbar=False, cmap='viridis')\n",
    "plt.title('Missing Values in the Dataset')\n",
    "plt.show()"
   ]
  },
  {
   "cell_type": "markdown",
   "metadata": {},
   "source": [
    "# Outliers"
   ]
  },
  {
   "cell_type": "code",
   "execution_count": 29,
   "metadata": {},
   "outputs": [
    {
     "data": {
      "image/png": "[encoded data removed]",
      "text/plain": [
       "<Figure size 720x432 with 1 Axes>"
      ]
     },
     "metadata": {
      "needs_background": "light"
     },
     "output_type": "display_data"
    },
    {
     "name": "stdout",
     "output_type": "stream",
     "text": [
      "Number of outliers in Calories: 35905\n"
     ]
    },
    {
     "data": {
      "image/png": "[encoded data removed]",
      "text/plain": [
       "<Figure size 720x432 with 1 Axes>"
      ]
     },
     "metadata": {
      "needs_background": "light"
     },
     "output_type": "display_data"
    },
    {
     "data": {
      "image/png": "[encoded data removed]",
      "text/plain": [
       "<Figure size 720x432 with 1 Axes>"
      ]
     },
     "metadata": {
      "needs_background": "light"
     },
     "output_type": "display_data"
    },
    {
     "name": "stdout",
     "output_type": "stream",
     "text": [
      "Number of outliers in FatContent: 18644\n"
     ]
    },
    {
     "data": {
      "image/png": "[encoded data removed]",
      "text/plain": [
       "<Figure size 720x432 with 1 Axes>"
      ]
     },
     "metadata": {
      "needs_background": "light"
     },
     "output_type": "display_data"
    },
    {
     "data": {
      "image/png": "[encoded data removed]",
      "text/plain": [
       "<Figure size 720x432 with 1 Axes>"
      ]
     },
     "metadata": {
      "needs_background": "light"
     },
     "output_type": "display_data"
    },
    {
     "name": "stdout",
     "output_type": "stream",
     "text": [
      "Number of outliers in SaturatedFatContent: 16804\n"
     ]
    },
    {
     "data": {
      "image/png": "[encoded data removed]",
      "text/plain": [
       "<Figure size 720x432 with 1 Axes>"
      ]
     },
     "metadata": {
      "needs_background": "light"
     },
     "output_type": "display_data"
    },
    {
     "data": {
      "image/png": "[encoded data removed]",
      "text/plain": [
       "<Figure size 720x432 with 1 Axes>"
      ]
     },
     "metadata": {
      "needs_background": "light"
     },
     "output_type": "display_data"
    },
    {
     "name": "stdout",
     "output_type": "stream",
     "text": [
      "Number of outliers in CholesterolContent: 19495\n"
     ]
    },
    {
     "data": {
      "image/png": "[encoded data removed]",
      "text/plain": [
       "<Figure size 720x432 with 1 Axes>"
      ]
     },
     "metadata": {
      "needs_background": "light"
     },
     "output_type": "display_data"
    },
    {
     "data": {
      "image/png": "[encoded data removed]",
      "text/plain": [
       "<Figure size 720x432 with 1 Axes>"
      ]
     },
     "metadata": {
      "needs_background": "light"
     },
     "output_type": "display_data"
    },
    {
     "name": "stdout",
     "output_type": "stream",
     "text": [
      "Number of outliers in SodiumContent: 24600\n"
     ]
    },
    {
     "data": {
      "image/png": "[encoded data removed]",
      "text/plain": [
       "<Figure size 720x432 with 1 Axes>"
      ]
     },
     "metadata": {
      "needs_background": "light"
     },
     "output_type": "display_data"
    },
    {
     "data": {
      "image/png": "[encoded data removed]",
      "text/plain": [
       "<Figure size 720x432 with 1 Axes>"
      ]
     },
     "metadata": {
      "needs_background": "light"
     },
     "output_type": "display_data"
    },
    {
     "name": "stdout",
     "output_type": "stream",
     "text": [
      "Number of outliers in CarbohydrateContent: 14971\n"
     ]
    },
    {
     "data": {
      "image/png": "[encoded data removed]",
      "text/plain": [
       "<Figure size 720x432 with 1 Axes>"
      ]
     },
     "metadata": {
      "needs_background": "light"
     },
     "output_type": "display_data"
    },
    {
     "data": {
      "image/png": "[encoded data removed]",
      "text/plain": [
       "<Figure size 720x432 with 1 Axes>"
      ]
     },
     "metadata": {
      "needs_background": "light"
     },
     "output_type": "display_data"
    },
    {
     "name": "stdout",
     "output_type": "stream",
     "text": [
      "Number of outliers in FiberContent: 23451\n"
     ]
    },
    {
     "data": {
      "image/png": "[encoded data removed]",
      "text/plain": [
       "<Figure size 720x432 with 1 Axes>"
      ]
     },
     "metadata": {
      "needs_background": "light"
     },
     "output_type": "display_data"
    },
    {
     "data": {
      "image/png": "[encoded data removed]",
      "text/plain": [
       "<Figure size 720x432 with 1 Axes>"
      ]
     },
     "metadata": {
      "needs_background": "light"
     },
     "output_type": "display_data"
    },
    {
     "name": "stdout",
     "output_type": "stream",
     "text": [
      "Number of outliers in SugarContent: 29599\n"
     ]
    },
    {
     "data": {
      "image/png": "[encoded data removed]",
      "text/plain": [
       "<Figure size 720x432 with 1 Axes>"
      ]
     },
     "metadata": {
      "needs_background": "light"
     },
     "output_type": "display_data"
    },
    {
     "data": {
      "image/png": "[encoded data removed]",
      "text/plain": [
       "<Figure size 720x432 with 1 Axes>"
      ]
     },
     "metadata": {
      "needs_background": "light"
     },
     "output_type": "display_data"
    },
    {
     "name": "stdout",
     "output_type": "stream",
     "text": [
      "Number of outliers in ProteinContent: 13774\n"
     ]
    },
    {
     "data": {
      "image/png": "[encoded data removed]",
      "text/plain": [
       "<Figure size 720x432 with 1 Axes>"
      ]
     },
     "metadata": {
      "needs_background": "light"
     },
     "output_type": "display_data"
    }
   ],
   "source": [
    "import numpy as np\n",
    "import pandas as pd\n",
    "import seaborn as sns\n",
    "import matplotlib.pyplot as plt\n",
    "\n",
    "# Assuming 'data' is your original DataFrame\n",
    "\n",
    "columns_for_data1 = ['Calories', 'FatContent', 'SaturatedFatContent', 'CholesterolContent', 'SodiumContent', 'CarbohydrateContent', 'FiberContent', 'SugarContent', 'ProteinContent']\n",
    "\n",
    "for feature in columns_for_data1:\n",
    "    # Visualize the distribution before handling outliers\n",
    "    plt.figure(figsize=(10, 6))\n",
    "    sns.boxplot(x=feature, data=columns_data)\n",
    "    plt.title(f'Distribution of {feature} with Outliers')\n",
    "    plt.show()\n",
    "\n",
    "    # Identify and handle outliers using IQR (Interquartile Range)\n",
    "    Q1 = columns_data[feature].quantile(0.25)\n",
    "    Q3 = columns_data[feature].quantile(0.75)\n",
    "    IQR = Q3 - Q1\n",
    "\n",
    "    # Define the upper and lower bounds to identify outliers\n",
    "    lower_bound = Q1 - 1.5 * IQR\n",
    "    upper_bound = Q3 + 1.5 * IQR\n",
    "\n",
    "    # Identify outliers\n",
    "    outliers = columns_data[(columns_data[feature] < lower_bound) | (columns_data[feature] > upper_bound)]\n",
    "    print(f'Number of outliers in {feature}: {len(outliers.index)}')\n",
    "\n",
    "    # Remove outliers in the original DataFrame\n",
    "    columns_data = columns_data[(columns_data[feature] >= lower_bound) & (columns_data[feature] <= upper_bound)]\n",
    "\n",
    "    # Visualize the distribution after handling outliers\n",
    "    plt.figure(figsize=(10, 6))\n",
    "    sns.boxplot(x=feature, data=columns_data)\n",
    "    plt.title(f'Distribution of {feature} without Outliers')\n",
    "    plt.show()\n"
   ]
  },
  {
   "cell_type": "code",
   "execution_count": 30,
   "metadata": {},
   "outputs": [
    {
     "name": "stdout",
     "output_type": "stream",
     "text": [
      "<class 'pandas.core.frame.DataFrame'>\n",
      "Int64Index: 325274 entries, 0 to 522515\n",
      "Data columns (total 16 columns):\n",
      " #   Column                 Non-Null Count   Dtype  \n",
      "---  ------                 --------------   -----  \n",
      " 0   RecipeId               325274 non-null  int64  \n",
      " 1   Name                   325274 non-null  object \n",
      " 2   CookTime               269167 non-null  object \n",
      " 3   PrepTime               325274 non-null  object \n",
      " 4   TotalTime              325274 non-null  object \n",
      " 5   RecipeIngredientParts  325274 non-null  object \n",
      " 6   Calories               325274 non-null  float64\n",
      " 7   FatContent             325274 non-null  float64\n",
      " 8   SaturatedFatContent    325274 non-null  float64\n",
      " 9   CholesterolContent     325274 non-null  float64\n",
      " 10  SodiumContent          325274 non-null  float64\n",
      " 11  CarbohydrateContent    325274 non-null  float64\n",
      " 12  FiberContent           325274 non-null  float64\n",
      " 13  SugarContent           325274 non-null  float64\n",
      " 14  ProteinContent         325274 non-null  float64\n",
      " 15  RecipeInstructions     325274 non-null  object \n",
      "dtypes: float64(9), int64(1), object(6)\n",
      "memory usage: 42.2+ MB\n"
     ]
    }
   ],
   "source": [
    "columns_data.info()"
   ]
  },
  {
   "cell_type": "code",
   "execution_count": 31,
   "metadata": {},
   "outputs": [
    {
     "data": {
      "text/plain": [
       "325274"
      ]
     },
     "execution_count": 31,
     "metadata": {},
     "output_type": "execute_result"
    }
   ],
   "source": [
    "len(columns_data.Calories)"
   ]
  },
  {
   "cell_type": "code",
   "execution_count": 32,
   "metadata": {},
   "outputs": [
    {
     "name": "stdout",
     "output_type": "stream",
     "text": [
      "Name {Beijinhos De Coco} Brazilian Coconut Treats\n",
      "Calories 1052.1\n",
      "FatContent 52.2\n",
      "SaturatedFatContent 19.7\n",
      "CholesterolContent 206.5\n",
      "SodiumContent 1454.9\n",
      "CarbohydrateContent 92.2\n",
      "FiberContent 8.2\n",
      "SugarContent 33.3\n",
      "ProteinContent 39.7\n"
     ]
    }
   ],
   "source": [
    "columns_for_data1 = ['Name', 'Calories', 'FatContent', 'SaturatedFatContent', 'CholesterolContent', 'SodiumContent', 'CarbohydrateContent', 'FiberContent', 'SugarContent', 'ProteinContent']\n",
    "\n",
    "for feature in columns_for_data1:\n",
    "    print(feature,max(columns_data[feature]))"
   ]
  },
  {
   "cell_type": "code",
   "execution_count": 33,
   "metadata": {},
   "outputs": [],
   "source": [
    "non_id_data = data[columns_for_data1]"
   ]
  },
  {
   "cell_type": "code",
   "execution_count": 34,
   "metadata": {},
   "outputs": [
    {
     "data": {
      "text/plain": [
       "1211"
      ]
     },
     "execution_count": 34,
     "metadata": {},
     "output_type": "execute_result"
    }
   ],
   "source": [
    "non_id_data.duplicated().sum()"
   ]
  },
  {
   "cell_type": "code",
   "execution_count": 35,
   "metadata": {},
   "outputs": [
    {
     "data": {
      "text/html": [
       "<div>\n",
       "<style scoped>\n",
       "    .dataframe tbody tr th:only-of-type {\n",
       "        vertical-align: middle;\n",
       "    }\n",
       "\n",
       "    .dataframe tbody tr th {\n",
       "        vertical-align: top;\n",
       "    }\n",
       "\n",
       "    .dataframe thead th {\n",
       "        text-align: right;\n",
       "    }\n",
       "</style>\n",
       "<table border=\"1\" class=\"dataframe\">\n",
       "  <thead>\n",
       "    <tr style=\"text-align: right;\">\n",
       "      <th></th>\n",
       "      <th>RecipeId</th>\n",
       "      <th>Name</th>\n",
       "      <th>CookTime</th>\n",
       "      <th>PrepTime</th>\n",
       "      <th>TotalTime</th>\n",
       "      <th>RecipeIngredientParts</th>\n",
       "      <th>Calories</th>\n",
       "      <th>FatContent</th>\n",
       "      <th>SaturatedFatContent</th>\n",
       "      <th>CholesterolContent</th>\n",
       "      <th>SodiumContent</th>\n",
       "      <th>CarbohydrateContent</th>\n",
       "      <th>FiberContent</th>\n",
       "      <th>SugarContent</th>\n",
       "      <th>ProteinContent</th>\n",
       "      <th>RecipeInstructions</th>\n",
       "    </tr>\n",
       "  </thead>\n",
       "  <tbody>\n",
       "    <tr>\n",
       "      <th>0</th>\n",
       "      <td>38</td>\n",
       "      <td>Low-Fat Berry Blue Frozen Dessert</td>\n",
       "      <td>PT24H</td>\n",
       "      <td>PT45M</td>\n",
       "      <td>PT24H45M</td>\n",
       "      <td>c(\"blueberries\", \"granulated sugar\", \"vanilla ...</td>\n",
       "      <td>170.9</td>\n",
       "      <td>2.5</td>\n",
       "      <td>1.3</td>\n",
       "      <td>8.0</td>\n",
       "      <td>29.8</td>\n",
       "      <td>37.1</td>\n",
       "      <td>3.6</td>\n",
       "      <td>30.2</td>\n",
       "      <td>3.2</td>\n",
       "      <td>c(\"Toss 2 cups berries with sugar.\", \"Let stan...</td>\n",
       "    </tr>\n",
       "    <tr>\n",
       "      <th>4</th>\n",
       "      <td>42</td>\n",
       "      <td>Cabbage Soup</td>\n",
       "      <td>PT30M</td>\n",
       "      <td>PT20M</td>\n",
       "      <td>PT50M</td>\n",
       "      <td>c(\"plain tomato juice\", \"cabbage\", \"onion\", \"c...</td>\n",
       "      <td>103.6</td>\n",
       "      <td>0.4</td>\n",
       "      <td>0.1</td>\n",
       "      <td>0.0</td>\n",
       "      <td>959.3</td>\n",
       "      <td>25.1</td>\n",
       "      <td>4.8</td>\n",
       "      <td>17.7</td>\n",
       "      <td>4.3</td>\n",
       "      <td>c(\"Mix everything together and bring to a boil...</td>\n",
       "    </tr>\n",
       "    <tr>\n",
       "      <th>7</th>\n",
       "      <td>45</td>\n",
       "      <td>Buttermilk Pie With Gingersnap Crumb Crust</td>\n",
       "      <td>PT50M</td>\n",
       "      <td>PT30M</td>\n",
       "      <td>PT1H20M</td>\n",
       "      <td>c(\"sugar\", \"margarine\", \"egg\", \"flour\", \"salt\"...</td>\n",
       "      <td>228.0</td>\n",
       "      <td>7.1</td>\n",
       "      <td>1.7</td>\n",
       "      <td>24.5</td>\n",
       "      <td>281.8</td>\n",
       "      <td>37.5</td>\n",
       "      <td>0.5</td>\n",
       "      <td>24.7</td>\n",
       "      <td>4.2</td>\n",
       "      <td>c(\"Preheat oven to 350°F.\", \"Make pie crust, u...</td>\n",
       "    </tr>\n",
       "    <tr>\n",
       "      <th>8</th>\n",
       "      <td>46</td>\n",
       "      <td>A Jad - Cucumber Pickle</td>\n",
       "      <td>NaN</td>\n",
       "      <td>PT25M</td>\n",
       "      <td>PT25M</td>\n",
       "      <td>c(\"rice vinegar\", \"haeo\")</td>\n",
       "      <td>4.3</td>\n",
       "      <td>0.0</td>\n",
       "      <td>0.0</td>\n",
       "      <td>0.0</td>\n",
       "      <td>0.7</td>\n",
       "      <td>1.1</td>\n",
       "      <td>0.2</td>\n",
       "      <td>0.2</td>\n",
       "      <td>0.1</td>\n",
       "      <td>c(\"Slice the cucumber in four lengthwise, then...</td>\n",
       "    </tr>\n",
       "    <tr>\n",
       "      <th>9</th>\n",
       "      <td>47</td>\n",
       "      <td>Butter Pecan Cookies</td>\n",
       "      <td>PT9M</td>\n",
       "      <td>PT55M</td>\n",
       "      <td>PT1H4M</td>\n",
       "      <td>c(\"butter\", \"brown sugar\", \"granulated sugar\",...</td>\n",
       "      <td>69.0</td>\n",
       "      <td>5.6</td>\n",
       "      <td>1.4</td>\n",
       "      <td>6.3</td>\n",
       "      <td>15.0</td>\n",
       "      <td>4.5</td>\n",
       "      <td>0.6</td>\n",
       "      <td>1.6</td>\n",
       "      <td>0.8</td>\n",
       "      <td>c(\"Preheat oven to 350 degrees.\", \"Cream butte...</td>\n",
       "    </tr>\n",
       "    <tr>\n",
       "      <th>...</th>\n",
       "      <td>...</td>\n",
       "      <td>...</td>\n",
       "      <td>...</td>\n",
       "      <td>...</td>\n",
       "      <td>...</td>\n",
       "      <td>...</td>\n",
       "      <td>...</td>\n",
       "      <td>...</td>\n",
       "      <td>...</td>\n",
       "      <td>...</td>\n",
       "      <td>...</td>\n",
       "      <td>...</td>\n",
       "      <td>...</td>\n",
       "      <td>...</td>\n",
       "      <td>...</td>\n",
       "      <td>...</td>\n",
       "    </tr>\n",
       "    <tr>\n",
       "      <th>522508</th>\n",
       "      <td>541375</td>\n",
       "      <td>Amazing Ground Beef Stroganoff</td>\n",
       "      <td>PT20M</td>\n",
       "      <td>PT30M</td>\n",
       "      <td>PT50M</td>\n",
       "      <td>c(\"hamburger\", \"onion\", \"celery\", \"water chest...</td>\n",
       "      <td>422.3</td>\n",
       "      <td>28.6</td>\n",
       "      <td>12.6</td>\n",
       "      <td>106.0</td>\n",
       "      <td>634.7</td>\n",
       "      <td>14.1</td>\n",
       "      <td>1.4</td>\n",
       "      <td>5.7</td>\n",
       "      <td>27.3</td>\n",
       "      <td>c(\"Saute meat in a medium skillet until it los...</td>\n",
       "    </tr>\n",
       "    <tr>\n",
       "      <th>522509</th>\n",
       "      <td>541376</td>\n",
       "      <td>Spanish Coffee with Tia Maria</td>\n",
       "      <td>NaN</td>\n",
       "      <td>PT10M</td>\n",
       "      <td>PT10M</td>\n",
       "      <td>c(\"lemon wedge\", \"granulated sugar\", \"cognac\",...</td>\n",
       "      <td>84.3</td>\n",
       "      <td>2.1</td>\n",
       "      <td>1.2</td>\n",
       "      <td>6.8</td>\n",
       "      <td>15.7</td>\n",
       "      <td>16.6</td>\n",
       "      <td>0.4</td>\n",
       "      <td>15.4</td>\n",
       "      <td>0.6</td>\n",
       "      <td>c(\"Cut a small slit in the lemon wedge and sli...</td>\n",
       "    </tr>\n",
       "    <tr>\n",
       "      <th>522510</th>\n",
       "      <td>541377</td>\n",
       "      <td>Slow-Cooker Classic Coffee Cake</td>\n",
       "      <td>PT3H</td>\n",
       "      <td>PT20M</td>\n",
       "      <td>PT3H20M</td>\n",
       "      <td>c(\"all-purpose flour\", \"brown sugar\", \"butter\"...</td>\n",
       "      <td>358.9</td>\n",
       "      <td>19.8</td>\n",
       "      <td>10.5</td>\n",
       "      <td>103.1</td>\n",
       "      <td>323.4</td>\n",
       "      <td>41.5</td>\n",
       "      <td>0.8</td>\n",
       "      <td>24.8</td>\n",
       "      <td>4.8</td>\n",
       "      <td>c(\"Line bottom and sides of 5-quart oval slow ...</td>\n",
       "    </tr>\n",
       "    <tr>\n",
       "      <th>522512</th>\n",
       "      <td>541379</td>\n",
       "      <td>Meg's Fresh Ginger Gingerbread</td>\n",
       "      <td>PT35M</td>\n",
       "      <td>PT1H</td>\n",
       "      <td>PT1H35M</td>\n",
       "      <td>c(\"fresh ginger\", \"unsalted butter\", \"dark bro...</td>\n",
       "      <td>316.6</td>\n",
       "      <td>12.5</td>\n",
       "      <td>7.6</td>\n",
       "      <td>54.4</td>\n",
       "      <td>278.2</td>\n",
       "      <td>48.5</td>\n",
       "      <td>0.8</td>\n",
       "      <td>22.8</td>\n",
       "      <td>3.9</td>\n",
       "      <td>c(\"Preheat oven to 350&amp;deg;F Grease an 8x8 cak...</td>\n",
       "    </tr>\n",
       "    <tr>\n",
       "      <th>522515</th>\n",
       "      <td>541382</td>\n",
       "      <td>Quick &amp; Easy Asian Cucumber Salmon Rolls</td>\n",
       "      <td>NaN</td>\n",
       "      <td>PT15M</td>\n",
       "      <td>PT15M</td>\n",
       "      <td>c(\"wasabi paste\", \"dill\", \"English cucumber\", ...</td>\n",
       "      <td>16.1</td>\n",
       "      <td>0.6</td>\n",
       "      <td>0.1</td>\n",
       "      <td>2.9</td>\n",
       "      <td>100.5</td>\n",
       "      <td>0.3</td>\n",
       "      <td>0.0</td>\n",
       "      <td>0.1</td>\n",
       "      <td>2.4</td>\n",
       "      <td>c(\"In a small bowl, combine mayo and wasabi pa...</td>\n",
       "    </tr>\n",
       "  </tbody>\n",
       "</table>\n",
       "<p>324463 rows × 16 columns</p>\n",
       "</div>"
      ],
      "text/plain": [
       "        RecipeId                                        Name CookTime  \\\n",
       "0             38           Low-Fat Berry Blue Frozen Dessert    PT24H   \n",
       "4             42                                Cabbage Soup    PT30M   \n",
       "7             45  Buttermilk Pie With Gingersnap Crumb Crust    PT50M   \n",
       "8             46                     A Jad - Cucumber Pickle      NaN   \n",
       "9             47                        Butter Pecan Cookies     PT9M   \n",
       "...          ...                                         ...      ...   \n",
       "522508    541375              Amazing Ground Beef Stroganoff    PT20M   \n",
       "522509    541376               Spanish Coffee with Tia Maria      NaN   \n",
       "522510    541377             Slow-Cooker Classic Coffee Cake     PT3H   \n",
       "522512    541379              Meg's Fresh Ginger Gingerbread    PT35M   \n",
       "522515    541382    Quick & Easy Asian Cucumber Salmon Rolls      NaN   \n",
       "\n",
       "       PrepTime TotalTime                              RecipeIngredientParts  \\\n",
       "0         PT45M  PT24H45M  c(\"blueberries\", \"granulated sugar\", \"vanilla ...   \n",
       "4         PT20M     PT50M  c(\"plain tomato juice\", \"cabbage\", \"onion\", \"c...   \n",
       "7         PT30M   PT1H20M  c(\"sugar\", \"margarine\", \"egg\", \"flour\", \"salt\"...   \n",
       "8         PT25M     PT25M                          c(\"rice vinegar\", \"haeo\")   \n",
       "9         PT55M    PT1H4M  c(\"butter\", \"brown sugar\", \"granulated sugar\",...   \n",
       "...         ...       ...                                                ...   \n",
       "522508    PT30M     PT50M  c(\"hamburger\", \"onion\", \"celery\", \"water chest...   \n",
       "522509    PT10M     PT10M  c(\"lemon wedge\", \"granulated sugar\", \"cognac\",...   \n",
       "522510    PT20M   PT3H20M  c(\"all-purpose flour\", \"brown sugar\", \"butter\"...   \n",
       "522512     PT1H   PT1H35M  c(\"fresh ginger\", \"unsalted butter\", \"dark bro...   \n",
       "522515    PT15M     PT15M  c(\"wasabi paste\", \"dill\", \"English cucumber\", ...   \n",
       "\n",
       "        Calories  FatContent  SaturatedFatContent  CholesterolContent  \\\n",
       "0          170.9         2.5                  1.3                 8.0   \n",
       "4          103.6         0.4                  0.1                 0.0   \n",
       "7          228.0         7.1                  1.7                24.5   \n",
       "8            4.3         0.0                  0.0                 0.0   \n",
       "9           69.0         5.6                  1.4                 6.3   \n",
       "...          ...         ...                  ...                 ...   \n",
       "522508     422.3        28.6                 12.6               106.0   \n",
       "522509      84.3         2.1                  1.2                 6.8   \n",
       "522510     358.9        19.8                 10.5               103.1   \n",
       "522512     316.6        12.5                  7.6                54.4   \n",
       "522515      16.1         0.6                  0.1                 2.9   \n",
       "\n",
       "        SodiumContent  CarbohydrateContent  FiberContent  SugarContent  \\\n",
       "0                29.8                 37.1           3.6          30.2   \n",
       "4               959.3                 25.1           4.8          17.7   \n",
       "7               281.8                 37.5           0.5          24.7   \n",
       "8                 0.7                  1.1           0.2           0.2   \n",
       "9                15.0                  4.5           0.6           1.6   \n",
       "...               ...                  ...           ...           ...   \n",
       "522508          634.7                 14.1           1.4           5.7   \n",
       "522509           15.7                 16.6           0.4          15.4   \n",
       "522510          323.4                 41.5           0.8          24.8   \n",
       "522512          278.2                 48.5           0.8          22.8   \n",
       "522515          100.5                  0.3           0.0           0.1   \n",
       "\n",
       "        ProteinContent                                 RecipeInstructions  \n",
       "0                  3.2  c(\"Toss 2 cups berries with sugar.\", \"Let stan...  \n",
       "4                  4.3  c(\"Mix everything together and bring to a boil...  \n",
       "7                  4.2  c(\"Preheat oven to 350°F.\", \"Make pie crust, u...  \n",
       "8                  0.1  c(\"Slice the cucumber in four lengthwise, then...  \n",
       "9                  0.8  c(\"Preheat oven to 350 degrees.\", \"Cream butte...  \n",
       "...                ...                                                ...  \n",
       "522508            27.3  c(\"Saute meat in a medium skillet until it los...  \n",
       "522509             0.6  c(\"Cut a small slit in the lemon wedge and sli...  \n",
       "522510             4.8  c(\"Line bottom and sides of 5-quart oval slow ...  \n",
       "522512             3.9  c(\"Preheat oven to 350&deg;F Grease an 8x8 cak...  \n",
       "522515             2.4  c(\"In a small bowl, combine mayo and wasabi pa...  \n",
       "\n",
       "[324463 rows x 16 columns]"
      ]
     },
     "execution_count": 35,
     "metadata": {},
     "output_type": "execute_result"
    }
   ],
   "source": [
    "columns_data.drop_duplicates(subset=columns_for_data1)"
   ]
  },
  {
   "cell_type": "code",
   "execution_count": 36,
   "metadata": {},
   "outputs": [
    {
     "name": "stdout",
     "output_type": "stream",
     "text": [
      "<class 'pandas.core.frame.DataFrame'>\n",
      "Int64Index: 325274 entries, 0 to 522515\n",
      "Data columns (total 16 columns):\n",
      " #   Column                 Non-Null Count   Dtype  \n",
      "---  ------                 --------------   -----  \n",
      " 0   RecipeId               325274 non-null  int64  \n",
      " 1   Name                   325274 non-null  object \n",
      " 2   CookTime               269167 non-null  object \n",
      " 3   PrepTime               325274 non-null  object \n",
      " 4   TotalTime              325274 non-null  object \n",
      " 5   RecipeIngredientParts  325274 non-null  object \n",
      " 6   Calories               325274 non-null  float64\n",
      " 7   FatContent             325274 non-null  float64\n",
      " 8   SaturatedFatContent    325274 non-null  float64\n",
      " 9   CholesterolContent     325274 non-null  float64\n",
      " 10  SodiumContent          325274 non-null  float64\n",
      " 11  CarbohydrateContent    325274 non-null  float64\n",
      " 12  FiberContent           325274 non-null  float64\n",
      " 13  SugarContent           325274 non-null  float64\n",
      " 14  ProteinContent         325274 non-null  float64\n",
      " 15  RecipeInstructions     325274 non-null  object \n",
      "dtypes: float64(9), int64(1), object(6)\n",
      "memory usage: 42.2+ MB\n"
     ]
    }
   ],
   "source": [
    "columns_data.info()"
   ]
  },
  {
   "cell_type": "code",
   "execution_count": 37,
   "metadata": {},
   "outputs": [],
   "source": [
    "columns_data.to_csv('data_after_preprocessing_ma.csv')"
   ]
  }
 ],
 "metadata": {
  "kernelspec": {
   "display_name": "Python 3",
   "language": "python",
   "name": "python3"
  },
  "language_info": {
   "codemirror_mode": {
    "name": "ipython",
    "version": 3
   },
   "file_extension": ".py",
   "mimetype": "text/x-python",
   "name": "python",
   "nbconvert_exporter": "python",
   "pygments_lexer": "ipython3",
   "version": "3.10.2"
  }
 },
 "nbformat": 4,
 "nbformat_minor": 2
}
